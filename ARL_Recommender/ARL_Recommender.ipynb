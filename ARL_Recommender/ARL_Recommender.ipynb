{
 "cells": [
  {
   "cell_type": "code",
   "execution_count": 1,
   "id": "8120c86f-0e34-4b96-b398-e4bfd1e5f650",
   "metadata": {},
   "outputs": [],
   "source": [
    "import pandas as pd\n",
    "import seaborn as sns\n",
    "import numpy as np\n",
    "import matplotlib as plt"
   ]
  },
  {
   "cell_type": "code",
   "execution_count": 2,
   "id": "c848a3b3-6f85-431d-9d55-4da6eee13bdf",
   "metadata": {},
   "outputs": [],
   "source": [
    "df_c = pd.read_excel(\"online_retail_II.xlsx\", sheet_name=\"Year 2010-2011\")"
   ]
  },
  {
   "cell_type": "code",
   "execution_count": 21,
   "id": "5cf320c9-e4e5-4986-ad40-56f4d60ca234",
   "metadata": {},
   "outputs": [],
   "source": [
    "df = df_c.copy()"
   ]
  },
  {
   "cell_type": "code",
   "execution_count": 22,
   "id": "fdc743ae-efbc-42c0-a2fb-68201909e768",
   "metadata": {},
   "outputs": [
    {
     "data": {
      "text/html": [
       "<div>\n",
       "<style scoped>\n",
       "    .dataframe tbody tr th:only-of-type {\n",
       "        vertical-align: middle;\n",
       "    }\n",
       "\n",
       "    .dataframe tbody tr th {\n",
       "        vertical-align: top;\n",
       "    }\n",
       "\n",
       "    .dataframe thead th {\n",
       "        text-align: right;\n",
       "    }\n",
       "</style>\n",
       "<table border=\"1\" class=\"dataframe\">\n",
       "  <thead>\n",
       "    <tr style=\"text-align: right;\">\n",
       "      <th></th>\n",
       "      <th>Invoice</th>\n",
       "      <th>StockCode</th>\n",
       "      <th>Description</th>\n",
       "      <th>Quantity</th>\n",
       "      <th>InvoiceDate</th>\n",
       "      <th>Price</th>\n",
       "      <th>Customer ID</th>\n",
       "      <th>Country</th>\n",
       "    </tr>\n",
       "  </thead>\n",
       "  <tbody>\n",
       "    <tr>\n",
       "      <th>0</th>\n",
       "      <td>536365</td>\n",
       "      <td>85123A</td>\n",
       "      <td>WHITE HANGING HEART T-LIGHT HOLDER</td>\n",
       "      <td>6</td>\n",
       "      <td>2010-12-01 08:26:00</td>\n",
       "      <td>2.55</td>\n",
       "      <td>17850.0</td>\n",
       "      <td>United Kingdom</td>\n",
       "    </tr>\n",
       "    <tr>\n",
       "      <th>1</th>\n",
       "      <td>536365</td>\n",
       "      <td>71053</td>\n",
       "      <td>WHITE METAL LANTERN</td>\n",
       "      <td>6</td>\n",
       "      <td>2010-12-01 08:26:00</td>\n",
       "      <td>3.39</td>\n",
       "      <td>17850.0</td>\n",
       "      <td>United Kingdom</td>\n",
       "    </tr>\n",
       "    <tr>\n",
       "      <th>2</th>\n",
       "      <td>536365</td>\n",
       "      <td>84406B</td>\n",
       "      <td>CREAM CUPID HEARTS COAT HANGER</td>\n",
       "      <td>8</td>\n",
       "      <td>2010-12-01 08:26:00</td>\n",
       "      <td>2.75</td>\n",
       "      <td>17850.0</td>\n",
       "      <td>United Kingdom</td>\n",
       "    </tr>\n",
       "    <tr>\n",
       "      <th>3</th>\n",
       "      <td>536365</td>\n",
       "      <td>84029G</td>\n",
       "      <td>KNITTED UNION FLAG HOT WATER BOTTLE</td>\n",
       "      <td>6</td>\n",
       "      <td>2010-12-01 08:26:00</td>\n",
       "      <td>3.39</td>\n",
       "      <td>17850.0</td>\n",
       "      <td>United Kingdom</td>\n",
       "    </tr>\n",
       "    <tr>\n",
       "      <th>4</th>\n",
       "      <td>536365</td>\n",
       "      <td>84029E</td>\n",
       "      <td>RED WOOLLY HOTTIE WHITE HEART.</td>\n",
       "      <td>6</td>\n",
       "      <td>2010-12-01 08:26:00</td>\n",
       "      <td>3.39</td>\n",
       "      <td>17850.0</td>\n",
       "      <td>United Kingdom</td>\n",
       "    </tr>\n",
       "    <tr>\n",
       "      <th>...</th>\n",
       "      <td>...</td>\n",
       "      <td>...</td>\n",
       "      <td>...</td>\n",
       "      <td>...</td>\n",
       "      <td>...</td>\n",
       "      <td>...</td>\n",
       "      <td>...</td>\n",
       "      <td>...</td>\n",
       "    </tr>\n",
       "    <tr>\n",
       "      <th>541905</th>\n",
       "      <td>581587</td>\n",
       "      <td>22899</td>\n",
       "      <td>CHILDREN'S APRON DOLLY GIRL</td>\n",
       "      <td>6</td>\n",
       "      <td>2011-12-09 12:50:00</td>\n",
       "      <td>2.10</td>\n",
       "      <td>12680.0</td>\n",
       "      <td>France</td>\n",
       "    </tr>\n",
       "    <tr>\n",
       "      <th>541906</th>\n",
       "      <td>581587</td>\n",
       "      <td>23254</td>\n",
       "      <td>CHILDRENS CUTLERY DOLLY GIRL</td>\n",
       "      <td>4</td>\n",
       "      <td>2011-12-09 12:50:00</td>\n",
       "      <td>4.15</td>\n",
       "      <td>12680.0</td>\n",
       "      <td>France</td>\n",
       "    </tr>\n",
       "    <tr>\n",
       "      <th>541907</th>\n",
       "      <td>581587</td>\n",
       "      <td>23255</td>\n",
       "      <td>CHILDRENS CUTLERY CIRCUS PARADE</td>\n",
       "      <td>4</td>\n",
       "      <td>2011-12-09 12:50:00</td>\n",
       "      <td>4.15</td>\n",
       "      <td>12680.0</td>\n",
       "      <td>France</td>\n",
       "    </tr>\n",
       "    <tr>\n",
       "      <th>541908</th>\n",
       "      <td>581587</td>\n",
       "      <td>22138</td>\n",
       "      <td>BAKING SET 9 PIECE RETROSPOT</td>\n",
       "      <td>3</td>\n",
       "      <td>2011-12-09 12:50:00</td>\n",
       "      <td>4.95</td>\n",
       "      <td>12680.0</td>\n",
       "      <td>France</td>\n",
       "    </tr>\n",
       "    <tr>\n",
       "      <th>541909</th>\n",
       "      <td>581587</td>\n",
       "      <td>POST</td>\n",
       "      <td>POSTAGE</td>\n",
       "      <td>1</td>\n",
       "      <td>2011-12-09 12:50:00</td>\n",
       "      <td>18.00</td>\n",
       "      <td>12680.0</td>\n",
       "      <td>France</td>\n",
       "    </tr>\n",
       "  </tbody>\n",
       "</table>\n",
       "<p>541910 rows × 8 columns</p>\n",
       "</div>"
      ],
      "text/plain": [
       "       Invoice StockCode                          Description  Quantity  \\\n",
       "0       536365    85123A   WHITE HANGING HEART T-LIGHT HOLDER         6   \n",
       "1       536365     71053                  WHITE METAL LANTERN         6   \n",
       "2       536365    84406B       CREAM CUPID HEARTS COAT HANGER         8   \n",
       "3       536365    84029G  KNITTED UNION FLAG HOT WATER BOTTLE         6   \n",
       "4       536365    84029E       RED WOOLLY HOTTIE WHITE HEART.         6   \n",
       "...        ...       ...                                  ...       ...   \n",
       "541905  581587     22899         CHILDREN'S APRON DOLLY GIRL          6   \n",
       "541906  581587     23254        CHILDRENS CUTLERY DOLLY GIRL          4   \n",
       "541907  581587     23255      CHILDRENS CUTLERY CIRCUS PARADE         4   \n",
       "541908  581587     22138        BAKING SET 9 PIECE RETROSPOT          3   \n",
       "541909  581587      POST                              POSTAGE         1   \n",
       "\n",
       "               InvoiceDate  Price  Customer ID         Country  \n",
       "0      2010-12-01 08:26:00   2.55      17850.0  United Kingdom  \n",
       "1      2010-12-01 08:26:00   3.39      17850.0  United Kingdom  \n",
       "2      2010-12-01 08:26:00   2.75      17850.0  United Kingdom  \n",
       "3      2010-12-01 08:26:00   3.39      17850.0  United Kingdom  \n",
       "4      2010-12-01 08:26:00   3.39      17850.0  United Kingdom  \n",
       "...                    ...    ...          ...             ...  \n",
       "541905 2011-12-09 12:50:00   2.10      12680.0          France  \n",
       "541906 2011-12-09 12:50:00   4.15      12680.0          France  \n",
       "541907 2011-12-09 12:50:00   4.15      12680.0          France  \n",
       "541908 2011-12-09 12:50:00   4.95      12680.0          France  \n",
       "541909 2011-12-09 12:50:00  18.00      12680.0          France  \n",
       "\n",
       "[541910 rows x 8 columns]"
      ]
     },
     "execution_count": 22,
     "metadata": {},
     "output_type": "execute_result"
    }
   ],
   "source": [
    "df"
   ]
  },
  {
   "cell_type": "code",
   "execution_count": 9,
   "id": "642fe50e-b61c-4a79-8574-b5897f5e7f51",
   "metadata": {},
   "outputs": [
    {
     "data": {
      "text/plain": [
       "Invoice                object\n",
       "StockCode              object\n",
       "Description            object\n",
       "Quantity                int64\n",
       "InvoiceDate    datetime64[ns]\n",
       "Price                 float64\n",
       "Customer ID           float64\n",
       "Country                object\n",
       "dtype: object"
      ]
     },
     "execution_count": 9,
     "metadata": {},
     "output_type": "execute_result"
    }
   ],
   "source": [
    "df.dtypes"
   ]
  },
  {
   "cell_type": "code",
   "execution_count": 24,
   "id": "60759c6d-0969-4e78-baee-a6f6de7aaa6e",
   "metadata": {},
   "outputs": [],
   "source": [
    "df = df[~(df[\"StockCode\"] == \"POST\")]"
   ]
  },
  {
   "cell_type": "code",
   "execution_count": 27,
   "id": "c13dbb83-4a0c-4785-a081-ccb6c6cff4b2",
   "metadata": {},
   "outputs": [
    {
     "data": {
      "text/plain": [
       "Invoice        0\n",
       "StockCode      0\n",
       "Description    0\n",
       "Quantity       0\n",
       "InvoiceDate    0\n",
       "Price          0\n",
       "Customer ID    0\n",
       "Country        0\n",
       "dtype: int64"
      ]
     },
     "execution_count": 27,
     "metadata": {},
     "output_type": "execute_result"
    }
   ],
   "source": [
    "df.isnull().sum()"
   ]
  },
  {
   "cell_type": "code",
   "execution_count": 26,
   "id": "2efda094-ee49-4e4b-be13-119add208c70",
   "metadata": {},
   "outputs": [
    {
     "name": "stderr",
     "output_type": "stream",
     "text": [
      "C:\\Users\\90535\\AppData\\Local\\Temp\\ipykernel_10244\\1791587065.py:1: SettingWithCopyWarning: \n",
      "A value is trying to be set on a copy of a slice from a DataFrame\n",
      "\n",
      "See the caveats in the documentation: https://pandas.pydata.org/pandas-docs/stable/user_guide/indexing.html#returning-a-view-versus-a-copy\n",
      "  df.dropna(inplace = True)\n"
     ]
    }
   ],
   "source": [
    "df.dropna(inplace = True)"
   ]
  },
  {
   "cell_type": "code",
   "execution_count": 30,
   "id": "e9004997-49b0-4168-ae5d-245b92d35e9c",
   "metadata": {},
   "outputs": [],
   "source": [
    "df = df[~(df[\"Invoice\"].str.contains(\"C\",na=False))]"
   ]
  },
  {
   "cell_type": "code",
   "execution_count": 31,
   "id": "0b505d98-d81a-46f2-bcc1-440b29ffd950",
   "metadata": {},
   "outputs": [],
   "source": [
    "df = df[df[\"Quantity\"] > 0]"
   ]
  },
  {
   "cell_type": "code",
   "execution_count": 32,
   "id": "657fa7c6-4c08-48e6-8a41-9d6f7de69287",
   "metadata": {},
   "outputs": [],
   "source": [
    "df = df[df[\"Price\"] > 0]"
   ]
  },
  {
   "cell_type": "code",
   "execution_count": 33,
   "id": "05d777ae-b27d-400b-afe6-3b691db172f4",
   "metadata": {},
   "outputs": [
    {
     "data": {
      "text/html": [
       "<div>\n",
       "<style scoped>\n",
       "    .dataframe tbody tr th:only-of-type {\n",
       "        vertical-align: middle;\n",
       "    }\n",
       "\n",
       "    .dataframe tbody tr th {\n",
       "        vertical-align: top;\n",
       "    }\n",
       "\n",
       "    .dataframe thead th {\n",
       "        text-align: right;\n",
       "    }\n",
       "</style>\n",
       "<table border=\"1\" class=\"dataframe\">\n",
       "  <thead>\n",
       "    <tr style=\"text-align: right;\">\n",
       "      <th></th>\n",
       "      <th>count</th>\n",
       "      <th>mean</th>\n",
       "      <th>std</th>\n",
       "      <th>min</th>\n",
       "      <th>25%</th>\n",
       "      <th>50%</th>\n",
       "      <th>75%</th>\n",
       "      <th>max</th>\n",
       "    </tr>\n",
       "  </thead>\n",
       "  <tbody>\n",
       "    <tr>\n",
       "      <th>Quantity</th>\n",
       "      <td>396785.0</td>\n",
       "      <td>13.016349</td>\n",
       "      <td>179.579125</td>\n",
       "      <td>1.000</td>\n",
       "      <td>2.00</td>\n",
       "      <td>6.00</td>\n",
       "      <td>12.00</td>\n",
       "      <td>80995.00</td>\n",
       "    </tr>\n",
       "    <tr>\n",
       "      <th>Price</th>\n",
       "      <td>396785.0</td>\n",
       "      <td>3.037677</td>\n",
       "      <td>17.829741</td>\n",
       "      <td>0.001</td>\n",
       "      <td>1.25</td>\n",
       "      <td>1.95</td>\n",
       "      <td>3.75</td>\n",
       "      <td>4161.06</td>\n",
       "    </tr>\n",
       "    <tr>\n",
       "      <th>Customer ID</th>\n",
       "      <td>396785.0</td>\n",
       "      <td>15301.463886</td>\n",
       "      <td>1709.852311</td>\n",
       "      <td>12346.000</td>\n",
       "      <td>13975.00</td>\n",
       "      <td>15159.00</td>\n",
       "      <td>16801.00</td>\n",
       "      <td>18287.00</td>\n",
       "    </tr>\n",
       "  </tbody>\n",
       "</table>\n",
       "</div>"
      ],
      "text/plain": [
       "                count          mean          std        min       25%  \\\n",
       "Quantity     396785.0     13.016349   179.579125      1.000      2.00   \n",
       "Price        396785.0      3.037677    17.829741      0.001      1.25   \n",
       "Customer ID  396785.0  15301.463886  1709.852311  12346.000  13975.00   \n",
       "\n",
       "                  50%       75%       max  \n",
       "Quantity         6.00     12.00  80995.00  \n",
       "Price            1.95      3.75   4161.06  \n",
       "Customer ID  15159.00  16801.00  18287.00  "
      ]
     },
     "execution_count": 33,
     "metadata": {},
     "output_type": "execute_result"
    }
   ],
   "source": [
    "df.describe().T"
   ]
  },
  {
   "cell_type": "code",
   "execution_count": 34,
   "id": "87a20d3b-8bd2-4269-97bd-b70a8ddd1bd2",
   "metadata": {},
   "outputs": [],
   "source": [
    "def outlier_thresholds(dataframe, variable):\n",
    "    quartile1 = dataframe[variable].quantile(0.01)\n",
    "    quartile3 = dataframe[variable].quantile(0.99)\n",
    "    interquantile_range = quartile3 - quartile1\n",
    "    up_limit = quartile3 + 1.5 * interquantile_range\n",
    "    low_limit = quartile1 - 1.5 * interquantile_range\n",
    "    return low_limit, up_limit"
   ]
  },
  {
   "cell_type": "code",
   "execution_count": 35,
   "id": "dcf34e2d-54ee-48c9-bb55-c767e7caa858",
   "metadata": {},
   "outputs": [],
   "source": [
    "def replace_with_thresholds(dataframe, variable):\n",
    "    low_limit, up_limit = outlier_thresholds(dataframe, variable)\n",
    "    dataframe.loc[(dataframe[variable] < low_limit), variable] = low_limit\n",
    "    dataframe.loc[(dataframe[variable] > up_limit), variable] = up_limit"
   ]
  },
  {
   "cell_type": "code",
   "execution_count": 36,
   "id": "6dcf1e4b-04b2-4e67-ac68-5595390e3843",
   "metadata": {},
   "outputs": [],
   "source": [
    "replace_with_thresholds(df, \"Quantity\")"
   ]
  },
  {
   "cell_type": "code",
   "execution_count": 37,
   "id": "5e418cc7-9508-4566-8752-e047474308eb",
   "metadata": {},
   "outputs": [],
   "source": [
    "replace_with_thresholds(df, \"Price\")"
   ]
  },
  {
   "cell_type": "code",
   "execution_count": 38,
   "id": "d60eebac-f6c5-4efa-a337-0837349a7e26",
   "metadata": {},
   "outputs": [
    {
     "data": {
      "text/html": [
       "<div>\n",
       "<style scoped>\n",
       "    .dataframe tbody tr th:only-of-type {\n",
       "        vertical-align: middle;\n",
       "    }\n",
       "\n",
       "    .dataframe tbody tr th {\n",
       "        vertical-align: top;\n",
       "    }\n",
       "\n",
       "    .dataframe thead th {\n",
       "        text-align: right;\n",
       "    }\n",
       "</style>\n",
       "<table border=\"1\" class=\"dataframe\">\n",
       "  <thead>\n",
       "    <tr style=\"text-align: right;\">\n",
       "      <th></th>\n",
       "      <th>count</th>\n",
       "      <th>mean</th>\n",
       "      <th>std</th>\n",
       "      <th>min</th>\n",
       "      <th>25%</th>\n",
       "      <th>50%</th>\n",
       "      <th>75%</th>\n",
       "      <th>max</th>\n",
       "    </tr>\n",
       "  </thead>\n",
       "  <tbody>\n",
       "    <tr>\n",
       "      <th>Quantity</th>\n",
       "      <td>396785.0</td>\n",
       "      <td>11.855703</td>\n",
       "      <td>25.553760</td>\n",
       "      <td>1.000</td>\n",
       "      <td>2.00</td>\n",
       "      <td>6.00</td>\n",
       "      <td>12.00</td>\n",
       "      <td>298.50</td>\n",
       "    </tr>\n",
       "    <tr>\n",
       "      <th>Price</th>\n",
       "      <td>396785.0</td>\n",
       "      <td>2.835605</td>\n",
       "      <td>2.982371</td>\n",
       "      <td>0.001</td>\n",
       "      <td>1.25</td>\n",
       "      <td>1.95</td>\n",
       "      <td>3.75</td>\n",
       "      <td>31.56</td>\n",
       "    </tr>\n",
       "    <tr>\n",
       "      <th>Customer ID</th>\n",
       "      <td>396785.0</td>\n",
       "      <td>15301.463886</td>\n",
       "      <td>1709.852311</td>\n",
       "      <td>12346.000</td>\n",
       "      <td>13975.00</td>\n",
       "      <td>15159.00</td>\n",
       "      <td>16801.00</td>\n",
       "      <td>18287.00</td>\n",
       "    </tr>\n",
       "  </tbody>\n",
       "</table>\n",
       "</div>"
      ],
      "text/plain": [
       "                count          mean          std        min       25%  \\\n",
       "Quantity     396785.0     11.855703    25.553760      1.000      2.00   \n",
       "Price        396785.0      2.835605     2.982371      0.001      1.25   \n",
       "Customer ID  396785.0  15301.463886  1709.852311  12346.000  13975.00   \n",
       "\n",
       "                  50%       75%       max  \n",
       "Quantity         6.00     12.00    298.50  \n",
       "Price            1.95      3.75     31.56  \n",
       "Customer ID  15159.00  16801.00  18287.00  "
      ]
     },
     "execution_count": 38,
     "metadata": {},
     "output_type": "execute_result"
    }
   ],
   "source": [
    "df.describe().T"
   ]
  },
  {
   "cell_type": "code",
   "execution_count": 39,
   "id": "3633fa08-7965-42d7-a534-692b434dc552",
   "metadata": {},
   "outputs": [],
   "source": [
    "def create_invoice_product_df(dataframe, id=False):\n",
    "    if id:\n",
    "        return dataframe.groupby(['Invoice', \"StockCode\"])['Quantity'].sum().unstack().fillna(0). \\\n",
    "            applymap(lambda x: 1 if x > 0 else 0)\n",
    "    else:\n",
    "        return dataframe.groupby(['Invoice', 'Description'])['Quantity'].sum().unstack().fillna(0). \\\n",
    "            applymap(lambda x: 1 if x > 0 else 0)"
   ]
  },
  {
   "cell_type": "code",
   "execution_count": 40,
   "id": "e65680ea-7dd2-4e29-b416-bedd2ee5536e",
   "metadata": {},
   "outputs": [],
   "source": [
    "def check_id(dataframe, stock_code):\n",
    "    product_name = dataframe[dataframe[\"StockCode\"] == stock_code][[\"Description\"]].values[0].tolist()\n",
    "    print(product_name)"
   ]
  },
  {
   "cell_type": "code",
   "execution_count": 41,
   "id": "85d9d620-2c1f-437b-8600-3d9a90a0f704",
   "metadata": {},
   "outputs": [],
   "source": [
    "def create_rules(dataframe, id=True, country=\"France\"):\n",
    "    dataframe = dataframe[dataframe['Country'] == country]\n",
    "    dataframe = create_invoice_product_df(dataframe, id)\n",
    "    frequent_itemsets = apriori(dataframe, min_support=0.01, use_colnames=True)\n",
    "    rules = association_rules(frequent_itemsets, metric=\"support\", min_threshold=0.01)\n",
    "    return rules"
   ]
  },
  {
   "cell_type": "code",
   "execution_count": 44,
   "id": "643226bb-e55b-40e1-9cb1-59b9755b047c",
   "metadata": {},
   "outputs": [],
   "source": [
    "from mlxtend.frequent_patterns import apriori, association_rules"
   ]
  },
  {
   "cell_type": "code",
   "execution_count": 48,
   "id": "abeb884d-53f3-4f94-b7b4-34092551ea34",
   "metadata": {},
   "outputs": [
    {
     "name": "stderr",
     "output_type": "stream",
     "text": [
      "C:\\Users\\90535\\anaconda3\\lib\\site-packages\\mlxtend\\frequent_patterns\\fpcommon.py:111: DeprecationWarning: DataFrames with non-bool types result in worse computationalperformance and their support might be discontinued in the future.Please use a DataFrame with bool type\n",
      "  warnings.warn(\n"
     ]
    }
   ],
   "source": [
    "rules = create_rules(df , country = \"Germany\")"
   ]
  },
  {
   "cell_type": "code",
   "execution_count": 49,
   "id": "d5a0c9d2-cad0-401d-b151-d1f58daa505c",
   "metadata": {},
   "outputs": [
    {
     "data": {
      "text/html": [
       "<div>\n",
       "<style scoped>\n",
       "    .dataframe tbody tr th:only-of-type {\n",
       "        vertical-align: middle;\n",
       "    }\n",
       "\n",
       "    .dataframe tbody tr th {\n",
       "        vertical-align: top;\n",
       "    }\n",
       "\n",
       "    .dataframe thead th {\n",
       "        text-align: right;\n",
       "    }\n",
       "</style>\n",
       "<table border=\"1\" class=\"dataframe\">\n",
       "  <thead>\n",
       "    <tr style=\"text-align: right;\">\n",
       "      <th></th>\n",
       "      <th>antecedents</th>\n",
       "      <th>consequents</th>\n",
       "      <th>antecedent support</th>\n",
       "      <th>consequent support</th>\n",
       "      <th>support</th>\n",
       "      <th>confidence</th>\n",
       "      <th>lift</th>\n",
       "      <th>leverage</th>\n",
       "      <th>conviction</th>\n",
       "    </tr>\n",
       "  </thead>\n",
       "  <tbody>\n",
       "    <tr>\n",
       "      <th>0</th>\n",
       "      <td>(16237)</td>\n",
       "      <td>(22326)</td>\n",
       "      <td>0.011136</td>\n",
       "      <td>0.249443</td>\n",
       "      <td>0.011136</td>\n",
       "      <td>1.000000</td>\n",
       "      <td>4.008929</td>\n",
       "      <td>0.008358</td>\n",
       "      <td>inf</td>\n",
       "    </tr>\n",
       "    <tr>\n",
       "      <th>1</th>\n",
       "      <td>(22326)</td>\n",
       "      <td>(16237)</td>\n",
       "      <td>0.249443</td>\n",
       "      <td>0.011136</td>\n",
       "      <td>0.011136</td>\n",
       "      <td>0.044643</td>\n",
       "      <td>4.008929</td>\n",
       "      <td>0.008358</td>\n",
       "      <td>1.035073</td>\n",
       "    </tr>\n",
       "    <tr>\n",
       "      <th>2</th>\n",
       "      <td>(20674)</td>\n",
       "      <td>(20675)</td>\n",
       "      <td>0.022272</td>\n",
       "      <td>0.033408</td>\n",
       "      <td>0.013363</td>\n",
       "      <td>0.600000</td>\n",
       "      <td>17.960000</td>\n",
       "      <td>0.012619</td>\n",
       "      <td>2.416481</td>\n",
       "    </tr>\n",
       "    <tr>\n",
       "      <th>3</th>\n",
       "      <td>(20675)</td>\n",
       "      <td>(20674)</td>\n",
       "      <td>0.033408</td>\n",
       "      <td>0.022272</td>\n",
       "      <td>0.013363</td>\n",
       "      <td>0.400000</td>\n",
       "      <td>17.960000</td>\n",
       "      <td>0.012619</td>\n",
       "      <td>1.629547</td>\n",
       "    </tr>\n",
       "    <tr>\n",
       "      <th>4</th>\n",
       "      <td>(20674)</td>\n",
       "      <td>(20676)</td>\n",
       "      <td>0.022272</td>\n",
       "      <td>0.037862</td>\n",
       "      <td>0.011136</td>\n",
       "      <td>0.500000</td>\n",
       "      <td>13.205882</td>\n",
       "      <td>0.010293</td>\n",
       "      <td>1.924276</td>\n",
       "    </tr>\n",
       "    <tr>\n",
       "      <th>...</th>\n",
       "      <td>...</td>\n",
       "      <td>...</td>\n",
       "      <td>...</td>\n",
       "      <td>...</td>\n",
       "      <td>...</td>\n",
       "      <td>...</td>\n",
       "      <td>...</td>\n",
       "      <td>...</td>\n",
       "      <td>...</td>\n",
       "    </tr>\n",
       "    <tr>\n",
       "      <th>18365</th>\n",
       "      <td>(22629)</td>\n",
       "      <td>(22467, 22326, 22423, 21915, 22077)</td>\n",
       "      <td>0.104677</td>\n",
       "      <td>0.011136</td>\n",
       "      <td>0.011136</td>\n",
       "      <td>0.106383</td>\n",
       "      <td>9.553191</td>\n",
       "      <td>0.009970</td>\n",
       "      <td>1.106586</td>\n",
       "    </tr>\n",
       "    <tr>\n",
       "      <th>18366</th>\n",
       "      <td>(22326)</td>\n",
       "      <td>(22467, 22629, 22423, 21915, 22077)</td>\n",
       "      <td>0.249443</td>\n",
       "      <td>0.011136</td>\n",
       "      <td>0.011136</td>\n",
       "      <td>0.044643</td>\n",
       "      <td>4.008929</td>\n",
       "      <td>0.008358</td>\n",
       "      <td>1.035073</td>\n",
       "    </tr>\n",
       "    <tr>\n",
       "      <th>18367</th>\n",
       "      <td>(22423)</td>\n",
       "      <td>(22467, 22629, 22326, 21915, 22077)</td>\n",
       "      <td>0.140312</td>\n",
       "      <td>0.011136</td>\n",
       "      <td>0.011136</td>\n",
       "      <td>0.079365</td>\n",
       "      <td>7.126984</td>\n",
       "      <td>0.009573</td>\n",
       "      <td>1.074111</td>\n",
       "    </tr>\n",
       "    <tr>\n",
       "      <th>18368</th>\n",
       "      <td>(21915)</td>\n",
       "      <td>(22467, 22629, 22326, 22423, 22077)</td>\n",
       "      <td>0.046771</td>\n",
       "      <td>0.011136</td>\n",
       "      <td>0.011136</td>\n",
       "      <td>0.238095</td>\n",
       "      <td>21.380952</td>\n",
       "      <td>0.010615</td>\n",
       "      <td>1.297884</td>\n",
       "    </tr>\n",
       "    <tr>\n",
       "      <th>18369</th>\n",
       "      <td>(22077)</td>\n",
       "      <td>(22467, 22629, 22326, 22423, 21915)</td>\n",
       "      <td>0.104677</td>\n",
       "      <td>0.011136</td>\n",
       "      <td>0.011136</td>\n",
       "      <td>0.106383</td>\n",
       "      <td>9.553191</td>\n",
       "      <td>0.009970</td>\n",
       "      <td>1.106586</td>\n",
       "    </tr>\n",
       "  </tbody>\n",
       "</table>\n",
       "<p>18370 rows × 9 columns</p>\n",
       "</div>"
      ],
      "text/plain": [
       "      antecedents                          consequents  antecedent support  \\\n",
       "0         (16237)                              (22326)            0.011136   \n",
       "1         (22326)                              (16237)            0.249443   \n",
       "2         (20674)                              (20675)            0.022272   \n",
       "3         (20675)                              (20674)            0.033408   \n",
       "4         (20674)                              (20676)            0.022272   \n",
       "...           ...                                  ...                 ...   \n",
       "18365     (22629)  (22467, 22326, 22423, 21915, 22077)            0.104677   \n",
       "18366     (22326)  (22467, 22629, 22423, 21915, 22077)            0.249443   \n",
       "18367     (22423)  (22467, 22629, 22326, 21915, 22077)            0.140312   \n",
       "18368     (21915)  (22467, 22629, 22326, 22423, 22077)            0.046771   \n",
       "18369     (22077)  (22467, 22629, 22326, 22423, 21915)            0.104677   \n",
       "\n",
       "       consequent support   support  confidence       lift  leverage  \\\n",
       "0                0.249443  0.011136    1.000000   4.008929  0.008358   \n",
       "1                0.011136  0.011136    0.044643   4.008929  0.008358   \n",
       "2                0.033408  0.013363    0.600000  17.960000  0.012619   \n",
       "3                0.022272  0.013363    0.400000  17.960000  0.012619   \n",
       "4                0.037862  0.011136    0.500000  13.205882  0.010293   \n",
       "...                   ...       ...         ...        ...       ...   \n",
       "18365            0.011136  0.011136    0.106383   9.553191  0.009970   \n",
       "18366            0.011136  0.011136    0.044643   4.008929  0.008358   \n",
       "18367            0.011136  0.011136    0.079365   7.126984  0.009573   \n",
       "18368            0.011136  0.011136    0.238095  21.380952  0.010615   \n",
       "18369            0.011136  0.011136    0.106383   9.553191  0.009970   \n",
       "\n",
       "       conviction  \n",
       "0             inf  \n",
       "1        1.035073  \n",
       "2        2.416481  \n",
       "3        1.629547  \n",
       "4        1.924276  \n",
       "...           ...  \n",
       "18365    1.106586  \n",
       "18366    1.035073  \n",
       "18367    1.074111  \n",
       "18368    1.297884  \n",
       "18369    1.106586  \n",
       "\n",
       "[18370 rows x 9 columns]"
      ]
     },
     "execution_count": 49,
     "metadata": {},
     "output_type": "execute_result"
    }
   ],
   "source": [
    "rules"
   ]
  },
  {
   "cell_type": "code",
   "execution_count": 50,
   "id": "c7df6d0c-7545-432f-a975-a8fd5ee4fb62",
   "metadata": {},
   "outputs": [],
   "source": [
    "def arl_recommender(rules_df, product_id, rec_count=1):\n",
    "    sorted_rules = rules_df.sort_values(\"lift\", ascending=False)\n",
    "    recommendation_list = []\n",
    "    for i, product in enumerate(sorted_rules[\"antecedents\"]):\n",
    "        for j in list(product):\n",
    "            if j == product_id:\n",
    "                recommendation_list.append(list(sorted_rules.iloc[i][\"consequents\"])[0])\n",
    "\n",
    "    return recommendation_list[0:rec_count]"
   ]
  },
  {
   "cell_type": "code",
   "execution_count": 52,
   "id": "f902a01e-7e19-4481-b2e2-f443652dc592",
   "metadata": {},
   "outputs": [
    {
     "data": {
      "text/plain": [
       "[21915, 22328, 22331, 22328, 22328, 22551, 22326, 22556, 22326]"
      ]
     },
     "execution_count": 52,
     "metadata": {},
     "output_type": "execute_result"
    }
   ],
   "source": [
    "arl_recommender(rules, 22492, 1)"
   ]
  },
  {
   "cell_type": "code",
   "execution_count": 53,
   "id": "9f6240f0-1e70-4962-b504-1296c1c7adee",
   "metadata": {},
   "outputs": [
    {
     "name": "stdout",
     "output_type": "stream",
     "text": [
      "['RED  HARMONICA IN BOX ']\n"
     ]
    }
   ],
   "source": [
    "check_id(df, 21915)"
   ]
  },
  {
   "cell_type": "code",
   "execution_count": null,
   "id": "9a5d7e7b-c26c-40e2-bad4-fe3a81052369",
   "metadata": {},
   "outputs": [],
   "source": []
  }
 ],
 "metadata": {
  "kernelspec": {
   "display_name": "Python 3 (ipykernel)",
   "language": "python",
   "name": "python3"
  },
  "language_info": {
   "codemirror_mode": {
    "name": "ipython",
    "version": 3
   },
   "file_extension": ".py",
   "mimetype": "text/x-python",
   "name": "python",
   "nbconvert_exporter": "python",
   "pygments_lexer": "ipython3",
   "version": "3.9.12"
  }
 },
 "nbformat": 4,
 "nbformat_minor": 5
}
